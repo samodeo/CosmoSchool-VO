{
 "cells": [
  {
   "cell_type": "markdown",
   "metadata": {},
   "source": [
    "# Abell 1656: the Coma Cluster of Galaxies\n",
    "\n",
    "This notebook is based on the EURO-VO tutorial: \"Abell 1656: The Coma Cluster of Galaxies\" (http://www.euro-vo.org/?q=science/scientific-tutorials) by Massimo Ramella & Giulia Iafrate (INAF - Osservatorio Astronomico di Trieste), later updated by the CDS team: Caroline Bot, Thomas Boch, Jenny G. Sorce, Katharina A. Lutz, Stefania Amodeo. This notebook shows how to perform the tasks of the original tutorial from within a Jupyter notebook.\n",
    "\n",
    "## Introduction\n",
    "The goals of this notebook tutorial are:\n",
    " - Examine the Coma cluster of galaxies (Abell 1656) using services and data from the virtual observatory withinin a jupyter notebook in order to perform a quick evaluation of the mean redshift and velocity dispersion of the cluster. Both measurements are important to study the evolution of galaxy clusters. To do so we use redshifts and photometry (Petrosian r magnitude) from the SDSS survey and then add redshifts from the CAIRNS survey (Rines et al. 2003) in order to improve the completeness of the redshift sample.\n",
    " - Search the MAST archive for HST spectra in the region of the Coma cluster.\n",
    " - Download a spectrum from MAST and do a quick analysis of the redshift of the emission lines in the spectrum. \n",
    " \n",
    "For our analysis we need the following python packages: `astropy` and the affiliated packages `astroquery`, `specutils`, `pyvo`, `ipyaladin`, `numpy`, `scipy`, `matplotlib` and `seaborn`.\n",
    "\n",
    "Note: If you are running this notebook in Binder, no installation is required. \n",
    "     "
   ]
  },
  {
   "cell_type": "code",
   "execution_count": null,
   "metadata": {},
   "outputs": [],
   "source": [
    "import ipyaladin.aladin_widget as ipyal\n",
    "from astroquery.vizier import Vizier\n",
    "from astroquery.xmatch import XMatch\n",
    "from astroquery.simbad import Simbad\n",
    "from astropy.table import Table, vstack\n",
    "from astropy.io import fits\n",
    "from astropy.coordinates import SkyCoord\n",
    "from astropy import units as u\n",
    "from specutils import Spectrum1D, SpectralRegion\n",
    "import specutils.analysis as spec_ana\n",
    "import matplotlib.pyplot as plt\n",
    "import matplotlib as mpl\n",
    "from scipy.optimize import curve_fit\n",
    "import seaborn as sns\n",
    "import numpy as np\n",
    "import pyvo\n",
    "\n",
    "# import warnings \n",
    "# warnings.filterwarnings('ignore')\n",
    "\n",
    "print('Ready to go :) ')"
   ]
  },
  {
   "cell_type": "markdown",
   "metadata": {},
   "source": [
    "## Display the region of Abell 1656 in Aladin lite\n",
    "We start by displaying the Coma Cluster in an Aladin Lite widget. We will centre the DSS2 colour images (`survey='P/DSS2/color'`) on Abell 1656 (`target='A1656'`) and set the field of view to 0.7deg (`fov=0.7`). At the distance of Coma, our field of view corresponds to approximately 1Mpc a region large enough for our purposes. \n",
    "\n",
    "Note that if you are using Jupyter lab you can now open a second python3 notebook, click on the \"Python 3\" button in the top, right corner of this notebook to switch kernel. A new window will pop up and you can then select this notebook (i.e. \"Abel1656...\") as kernel. This will link the two notebooks such that they see the same variables ect. You may use the second linked notebook to be able to look at a Aladin Lite widget the entire time, while doing the analysis work in this notebook. Please see the ipyaladin webpage for more information on how to use the widget in Jupyter lab. "
   ]
  },
  {
   "cell_type": "code",
   "execution_count": null,
   "metadata": {},
   "outputs": [],
   "source": [
    "aladin = ipyal.Aladin(target='A1656', fov=0.7, survey='P/DSS2/color')"
   ]
  },
  {
   "cell_type": "code",
   "execution_count": null,
   "metadata": {
    "scrolled": false
   },
   "outputs": [],
   "source": [
    "aladin"
   ]
  },
  {
   "cell_type": "markdown",
   "metadata": {},
   "source": [
    "As with any Aladin Lite implementation, you can interact with this widget: \n",
    " - to zoom in and out place you mouse pointer on top of the image and scroll. \n",
    " - with <img src=\"images/ipyaladin_layer.png\" alt=\"the Layer Button\" style=\"width:30px; display: inline-block;\"/>  you can select other image surveys and manage the current view.\n",
    " - if you like to look at another target, you can use the search field <img src=\"images/ipyaladin_search.png\" alt=\"the Search Button\" style=\"width:30px; display: inline-block;\"/> to get there. \n",
    "\n",
    "These interactions can also be steered by changing properties of the variable `aladin`. If for example, after zooming in and out, you wanted to set the FoV again to 0.7deg, do:"
   ]
  },
  {
   "cell_type": "code",
   "execution_count": null,
   "metadata": {},
   "outputs": [],
   "source": [
    "aladin.fov = 0.7"
   ]
  },
  {
   "cell_type": "markdown",
   "metadata": {},
   "source": [
    "## Load the SDSS catalog and select galaxies\n",
    "In this section, we will search the SDSS DR16 catalogue at the VizieR catalogue service and then download all entries that are located within 40arcmin of the centre of the A1656. We start by querying VizieR for all catalogues that match the search term `SDSS DR12`: "
   ]
  },
  {
   "cell_type": "code",
   "execution_count": null,
   "metadata": {},
   "outputs": [],
   "source": [
    "catalog_list_sdss = Vizier.find_catalogs('SDSS DR12')\n",
    "for k, v in catalog_list_sdss.items():\n",
    "    print(k, ': ', v.description)"
   ]
  },
  {
   "cell_type": "markdown",
   "metadata": {},
   "source": [
    "We are interested in data from the main SDSS DR12 photometric catalogues: \"The SDSS Photometric Catalogue, Release 12 (Alam+, 2015)\". For an intial exploration of the content of this catalogue we do a query around 10arcmin of the centre of the Coma Cluster. We then print the output of the query, which is a list of Astropy Tables. "
   ]
  },
  {
   "cell_type": "code",
   "execution_count": null,
   "metadata": {},
   "outputs": [],
   "source": [
    "results_test_sdss = Vizier.query_region(\"A1656\", radius=\"0d10m0s\", catalog='V/147')\n",
    "print(results_test_sdss)"
   ]
  },
  {
   "cell_type": "markdown",
   "metadata": {},
   "source": [
    "As you can see there is one table with 50 entries in our resulting list of tables, let's see which columns it contains:"
   ]
  },
  {
   "cell_type": "code",
   "execution_count": null,
   "metadata": {},
   "outputs": [],
   "source": [
    "print(results_test_sdss[0].colnames)"
   ]
  },
  {
   "cell_type": "markdown",
   "metadata": {},
   "source": [
    "For our science target, we will only need the coordinates (`RA_ICRS` and `DE_ICRS`), r-band magnitudes (`rmag`) and redshifts (`zsp`) of the galaxies in the Coma cluster. Hence, we restrict our query such that we only get these columns. SDSS furthermore provides information on the type of source (galaxies: `class` = 3) and observing mode (primary sources: `mode` = 1). To only get galaxies, which are also primary sources, we implement a filtering of the columns. The way to implement these restrictions, is to create a specialised instance of the Vizier class, which we will call v1."
   ]
  },
  {
   "cell_type": "code",
   "execution_count": null,
   "metadata": {},
   "outputs": [],
   "source": [
    "v1 = Vizier(columns=['RA_ICRS', 'DE_ICRS', 'rmag', 'zsp'],\n",
    "            column_filters={'class': '==3', 'mode': '==1'})"
   ]
  },
  {
   "cell_type": "markdown",
   "metadata": {},
   "source": [
    "Above you might have noticed that the number of sources in the queried region is surprisingly small and round. This is because by default VizieR will only return 50 entries. If we want to get all sources within the queried region, we have to increase the `ROW_LIMIT`:"
   ]
  },
  {
   "cell_type": "code",
   "execution_count": null,
   "metadata": {},
   "outputs": [],
   "source": [
    "v1.ROW_LIMIT = -1"
   ]
  },
  {
   "cell_type": "markdown",
   "metadata": {},
   "source": [
    "Now we that we have prepared everything, we can query VizieR for all galaxies, which are primary sources and within 40arcmin of the centre of the Coma cluster. Note that VizieR know that `A1656` is the centre of the Coma cluster. If you wanted to search at some other place in the sky, you could also give coordinates (in the form of Astropy's `SkyCoord`) instead of `'A1656'`."
   ]
  },
  {
   "cell_type": "code",
   "execution_count": null,
   "metadata": {},
   "outputs": [],
   "source": [
    "results_coma_sdss = v1.query_region('A1656', radius='0d40m0s', catalog='V/147')\n",
    "print(results_coma_sdss)"
   ]
  },
  {
   "cell_type": "markdown",
   "metadata": {},
   "source": [
    "As you can see, the result of our query includes data from one catalogue for 23771 objects (i.e. the table has 23771 rows). The output from this query is again a list of Astropy Table objects, so we assign the table to the variable `sdss_dr12` and work with this from here on. "
   ]
  },
  {
   "cell_type": "code",
   "execution_count": null,
   "metadata": {},
   "outputs": [],
   "source": [
    "sdss = results_coma_sdss[0]\n",
    "sdss.show_in_notebook()"
   ]
  },
  {
   "cell_type": "markdown",
   "metadata": {},
   "source": [
    "## Identify the brightest sources as being stars contaminating the sample\n",
    "We have already restricted our sample to sources that are classified as galaxies (`class` = 3). However, for very bright sources, stars might be confused for galaxies. To test this and exclude any contamination from stars, we now take a closer look at the brightests sources. To do so we select sources brighter than 11.5 mag in r-band (`rmag < 11.5`) and check with the Aladin lite widget what these sources look like. "
   ]
  },
  {
   "cell_type": "code",
   "execution_count": null,
   "metadata": {},
   "outputs": [],
   "source": [
    "stars = sdss[sdss['rmag'] < 11.5]\n",
    "aladin.add_table(stars['RA_ICRS', 'DE_ICRS'])\n",
    "print('Our sample contains {} really bright sources.'.format(len(stars)))"
   ]
  },
  {
   "cell_type": "markdown",
   "metadata": {},
   "source": [
    "With the line `aladin.add_table(stars)`, we have added symbols to the Aladin Lite widget at the location of the brightest sources (i.e. stars). If you now scroll back up to the Aladin Lite widget and zoom out, you will be able to find all the brightest sources. By looking at each source (zoom in on them), you will find that these are indeed stars. "
   ]
  },
  {
   "cell_type": "markdown",
   "metadata": {},
   "source": [
    "## Build a subset of galaxies with photometry and redshift in SDSS\n",
    "Now on to exploring the galaxies in our sample. \n",
    "We again build a subset, this time for all sources fainter than 11.5mag (to leave out the stars identified in the section above) but brighter than 17.77mag, which is the completeness limit the SDSS spectroscopic sample. "
   ]
  },
  {
   "cell_type": "code",
   "execution_count": null,
   "metadata": {
    "scrolled": true
   },
   "outputs": [],
   "source": [
    "zsp17 = sdss[(sdss['rmag'] > 11.5) & (sdss['rmag'] < 17.77)]\n",
    "zsp17.show_in_notebook()"
   ]
  },
  {
   "cell_type": "markdown",
   "metadata": {},
   "source": [
    "## Improve the completeness with other sources of redshifts in Vizier\n",
    "As you can see in the table above, not all galaxies in our zsp17 sample have redshift measurements (some rows have '--' in the 'zsp' column, i.e. they are masked). So in order to improve the completeness of our sample we will now use Vizier to search for redshifts in the Rines et al (2003) catalogue. First find all catalogues that match the search terms 'redshifts Rines 2003':"
   ]
  },
  {
   "cell_type": "code",
   "execution_count": null,
   "metadata": {},
   "outputs": [],
   "source": [
    "catalog_list_rines = Vizier.find_catalogs('Rines 2003')\n",
    "for k, v in catalog_list_rines.items():\n",
    "    print(k, ': ', v.description)"
   ]
  },
  {
   "cell_type": "markdown",
   "metadata": {},
   "source": [
    "We are interested in the 'J/AJ/126/2152' catalogue :  Cluster And Infall Region Nearby Survey. I (Rines+, 2003). \n",
    "\n",
    "So again, let's take a quick look at this catalogue. "
   ]
  },
  {
   "cell_type": "code",
   "execution_count": null,
   "metadata": {},
   "outputs": [],
   "source": [
    "results_test_rines = Vizier.query_region(\"A1656\", radius=\"0d10m0s\", catalog='J/AJ/126/2152')\n",
    "print(results_test_rines)"
   ]
  },
  {
   "cell_type": "code",
   "execution_count": null,
   "metadata": {},
   "outputs": [],
   "source": [
    "results_test_rines[0]"
   ]
  },
  {
   "cell_type": "code",
   "execution_count": null,
   "metadata": {},
   "outputs": [],
   "source": [
    "results_test_rines[1]"
   ]
  },
  {
   "cell_type": "markdown",
   "metadata": {},
   "source": [
    "After inspecting the result of the test query, it becomes clear that we are in particular interested in the 'galaxies' table of the catalogue. We aim to find redshifts in this table for galaxies, which have no SDSS redshifts. In a first step we divide the zsp17 sample into two subsamples: the ones that already have a redshift measurement - zsp17_with - and the ones without redshift measurements - zsp17_wihtout (the entry in the table is a NaN). Then we use the CDS XMatch service (http://cdsxmatch.u-strasbg.fr/) via the `astroquery.XMatch.query` module to look for spatial crossmatches of galaxies from the zsp17_wihtout sample with entries the 'J/AJ/126/2152/galaxies' table hosted at Vizier. "
   ]
  },
  {
   "cell_type": "code",
   "execution_count": null,
   "metadata": {},
   "outputs": [],
   "source": [
    "ind = np.isnan(zsp17['zsp']) \n",
    "zsp17_with = zsp17[~ind]\n",
    "zsp17_without = zsp17[ind]\n",
    "zsp17_without.write('Data/zsp17_without.csv', overwrite=True)\n",
    "xmatch_sdss_rines = XMatch.query(cat1=open('Data/zsp17_without.csv'), \n",
    "                                 cat2='vizier:J/AJ/126/2152/galaxies',\n",
    "                                 max_distance=5 * u.arcsec, colRA1='RA_ICRS',\n",
    "                                 colDec1='DE_ICRS')\n",
    "xmatch_sdss_rines.show_in_notebook()"
   ]
  },
  {
   "cell_type": "markdown",
   "metadata": {},
   "source": [
    "## Build the final catalogue including the Rines et al. (2003) redshifts\n",
    "The resulting table of the cross-match above contains 25 rows, so we have found recession velocity ('cz') measurements for 25 galaxies. Now let's add these data to the zsp17_with table."
   ]
  },
  {
   "cell_type": "code",
   "execution_count": null,
   "metadata": {},
   "outputs": [],
   "source": [
    "zsp17_with['cz'] = zsp17_with['zsp'] * 300000.\n",
    "zsp17_without_new = xmatch_sdss_rines[zsp17_with.colnames]\n",
    "zsp17_final = vstack([zsp17_with, zsp17_without_new])\n",
    "zsp17_final.show_in_notebook()"
   ]
  },
  {
   "cell_type": "markdown",
   "metadata": {},
   "source": [
    "Now we have a table with all galaxies that have redshift measurements from SDSS and all additional galaxies, for which redshift measurements were obtained by Rines et al. (2003). Overall, the sample of galaxies within 40arcmin of the centre of the Coma cluster and with redshift measurements now contains 514 galaxies. Before we get started on the analysis of the data, we can have a look at the sources in the sample by loading the table into the Aladin Lite widget. They will appear in different colours than the stars before. "
   ]
  },
  {
   "cell_type": "code",
   "execution_count": null,
   "metadata": {},
   "outputs": [],
   "source": [
    "aladin.add_table(zsp17_final)"
   ]
  },
  {
   "cell_type": "markdown",
   "metadata": {},
   "source": [
    "## Determine the cz distribution, the cluster average velocity and velocity dispersion\n",
    "Based on the 514 galaxies, we can now analyse the recession velocity and velocity dispersion of the Abell 1656 galaxy cluster. First we visualise the recession velocity distribution of the entire sample:"
   ]
  },
  {
   "cell_type": "code",
   "execution_count": null,
   "metadata": {},
   "outputs": [],
   "source": [
    "sns.set_style(\"darkgrid\")\n",
    "sns.distplot(zsp17_final[\"cz\"], rug=False, kde=False)"
   ]
  },
  {
   "cell_type": "markdown",
   "metadata": {},
   "source": [
    "Note how there is a large range of recession velocities in our sample. We are only interested in the range of recession velocities of the Coma cluster. These are around the large peak at low velocities. To focus on these, we restrict ourselves to recession velocities between 3000 and 11000 km/s. For easy analysis we first create the subsample `zsp17_coma` and then visualise the distribution of the recession velocity in this subsample:"
   ]
  },
  {
   "cell_type": "code",
   "execution_count": null,
   "metadata": {},
   "outputs": [],
   "source": [
    "ind = (zsp17_final['cz'] > 3000.) & (zsp17_final['cz'] < 11000.)\n",
    "zsp17_coma = zsp17_final[ind]\n",
    "\n",
    "sns.set_style(\"darkgrid\")\n",
    "fig = plt.figure(figsize=(7.5, 6.0))\n",
    "ax = fig.add_axes([0.17, 0.17, 0.77, 0.77])\n",
    "sns.distplot(zsp17_coma['cz'], kde=False)\n",
    "ax.set_xlim([3000, 11000])"
   ]
  },
  {
   "cell_type": "markdown",
   "metadata": {},
   "source": [
    "These are data of all galaxies for which we collected redshift/recession velocity measurements and which are in the vincinity of the cluster (both spatially and in recession velocity). Now let's calculate the mean recession velocity of the cluster and its velocity dispersion:"
   ]
  },
  {
   "cell_type": "code",
   "execution_count": null,
   "metadata": {},
   "outputs": [],
   "source": [
    "print('The mean velocity in Coma is: {0:.1f} km/s and \\\n",
    "the standard deviation (i.e. velocity dispersion): \\\n",
    "{1:.1f} km/s'.format(np.mean(zsp17_coma['cz']), np.std(zsp17_coma['cz'])))"
   ]
  },
  {
   "cell_type": "markdown",
   "metadata": {},
   "source": [
    "This is in agreement with more refined analyses (e.g. Sohn et al. 2017, ApJS, 229, 20). When looking back at the results of the query for the Rines et al. (2003) catalogue, you can also see that in their `clusters` table they gave `cz` = 6973km/s and `sigmap_3s_` = 1042km/s for the Coma cluster, again in good agreement with our result. "
   ]
  },
  {
   "cell_type": "code",
   "execution_count": null,
   "metadata": {},
   "outputs": [],
   "source": [
    "results_test_rines[0]"
   ]
  },
  {
   "cell_type": "markdown",
   "metadata": {},
   "source": [
    "## Search for HST spectra in the Coma Cluster\n",
    "We now want to find out whether there are HST spectra available for galaxies, for which no redshift was available from SDSS amd the Rines et al. (2003) catalogue. We use the Simple Spectral Access (SSA) protocol (http://www.ivoa.net/documents/SSA/) to query the MAST archive for HST spectra again in an area of 40arcmin around the centre of the Coma Cluster. "
   ]
  },
  {
   "cell_type": "code",
   "execution_count": null,
   "metadata": {},
   "outputs": [],
   "source": [
    "mast_ssa_service = pyvo.dal.SSAService('https://archive.stsci.edu/ssap/search2.php?id=HST&')\n",
    "diameter = u.Quantity(2 * 40.0, unit=\"arcmin\")\n",
    "position = SkyCoord.from_name('A1656')\n",
    "mast_hst_results = mast_ssa_service.search(pos=position, diameter=diameter)\n",
    "mast_hst_results"
   ]
  },
  {
   "cell_type": "markdown",
   "metadata": {},
   "source": [
    "Note that `mast_hst_results` is not a list of tables as was the case for the results of the `astroquery` queries above but a pyvo `resultset`. Thus the methods to handle the `resultset` are slightly different. In a first step we want to find out which columns are available:"
   ]
  },
  {
   "cell_type": "code",
   "execution_count": null,
   "metadata": {},
   "outputs": [],
   "source": [
    "print(mast_hst_results.fieldnames)"
   ]
  },
  {
   "cell_type": "code",
   "execution_count": null,
   "metadata": {},
   "outputs": [],
   "source": [
    "for observation in mast_hst_results:\n",
    "    print(observation['object'])"
   ]
  },
  {
   "cell_type": "markdown",
   "metadata": {},
   "source": [
    "Often Quasars are further away than the Coma cluster, so let's check quickly on Simbad whether this source is interesting for our further analysis. Usually the Simbad query would only return information on the object's identifier and the coordinates. We are, however, also interested in its redshift, so we first create a customised Simbad query (as we did above for VizieR, for more details see here: https://astroquery.readthedocs.io/en/latest/simbad/simbad.html#customizing-the-default-settings) and then submit the query."
   ]
  },
  {
   "cell_type": "code",
   "execution_count": null,
   "metadata": {},
   "outputs": [],
   "source": [
    "custom_Simbad = Simbad()\n",
    "custom_Simbad.add_votable_fields('z_value')\n",
    "qso_table = custom_Simbad.query_object('QSO 1258+285')\n",
    "qso_table"
   ]
  },
  {
   "cell_type": "markdown",
   "metadata": {},
   "source": [
    "As you can see in the last column, the Quasar is indeed at a redshift of 1.36, which is far beyond the Coma Cluster. Therefore, we just focus on the source '1257+2840' for now. 1257+2840 is the last source in the list (double check and adjust if neccessary!), hence we asign the last row to a new variable (`interesting_obs`). We then exploit again the functionalities of `resultset` to find out where the data is located and what kind of file it is. "
   ]
  },
  {
   "cell_type": "code",
   "execution_count": null,
   "metadata": {},
   "outputs": [],
   "source": [
    "interesting_obs = mast_hst_results[-1]\n",
    "obs_url = interesting_obs.getdataurl()\n",
    "print(obs_url)"
   ]
  },
  {
   "cell_type": "markdown",
   "metadata": {},
   "source": [
    "## A quick analysis of the discovered spectrum\n",
    "\n",
    "With the previous step, we obtained a link to a fits file which we can download and open with `astropy`.  "
   ]
  },
  {
   "cell_type": "code",
   "execution_count": null,
   "metadata": {},
   "outputs": [],
   "source": [
    "spectrum_fits = fits.open(obs_url)\n",
    "spectrum_fits.info()"
   ]
  },
  {
   "cell_type": "code",
   "execution_count": null,
   "metadata": {
    "scrolled": true
   },
   "outputs": [],
   "source": [
    "spectrum_fits[1].header"
   ]
  },
  {
   "cell_type": "markdown",
   "metadata": {},
   "source": [
    "From the fits information and the header, it appears that we have three columns (listed in one axis though): wavelength in Angstrom, Flux and flux error in erg cm$^{-2}$ s$^{-1}$ A$^{-1}$. For a first quick look we can plot the spectrum:"
   ]
  },
  {
   "cell_type": "code",
   "execution_count": null,
   "metadata": {},
   "outputs": [],
   "source": [
    "fig = plt.figure(figsize=(10.0, 8.0))\n",
    "ax = fig.add_axes([0.17, 0.17, 0.77, 0.77])\n",
    "ax.plot(spectrum_fits[1].data[0][0], spectrum_fits[1].data[0][1])\n",
    "ax.set_xlabel('Wavelength [$\\AA$]', fontsize=14)\n",
    "ax.set_ylabel('Flux [erg cm$^{-2}$ s$^{-1}$ $\\AA^{-1}$]', fontsize=14)"
   ]
  },
  {
   "cell_type": "markdown",
   "metadata": {},
   "source": [
    "It is a spectrum in the ultraviolet with two visible emission lines, one around 1220A and one around 1330A. We know that the rest wavelength of the Lyman $\\alpha$ line is at 1216A. This specrum might thus show Ly$\\alpha$ (atomic hydrogen, HI) emission of the Milky Way (hardly redshifted) and of a redshifted, extragalactic source. To investigate this further, we use the `specutils` package. First we define a 1D spectrum, which is the data format that `specutils` works with. "
   ]
  },
  {
   "cell_type": "code",
   "execution_count": null,
   "metadata": {},
   "outputs": [],
   "source": [
    "flux_unit = u.erg / u.cm**2 / u.s / u.Angstrom\n",
    "spectrum = Spectrum1D(spectral_axis=spectrum_fits[1].data[0][0] * u.Angstrom, \n",
    "                      flux=spectrum_fits[1].data[0][1] * flux_unit)"
   ]
  },
  {
   "cell_type": "markdown",
   "metadata": {},
   "source": [
    "Now we can use the `specutils_analysis` functions to analyse the spectrum. First we want to find out the centroid of the two lines."
   ]
  },
  {
   "cell_type": "code",
   "execution_count": null,
   "metadata": {},
   "outputs": [],
   "source": [
    "cen_MW = spec_ana.centroid(spectrum, SpectralRegion(1200 * u.Angstrom,\n",
    "                                                    1260  * u.Angstrom))\n",
    "cen_new = spec_ana.centroid(spectrum, SpectralRegion(1300 * u.Angstrom,\n",
    "                                                     1370  * u.Angstrom))\n",
    "print('The centroid of the first peak is located at: ', cen_MW)\n",
    "print('The centroid of the second peak is located at: ', cen_new)"
   ]
  },
  {
   "cell_type": "markdown",
   "metadata": {},
   "source": [
    "Indeed the first peak is centred around the rest wavelength of the Ly$\\alpha$ line. We may thus assume that this is HI emission from the Milky Way in the foreground. Now assuming that the second line is also Ly$\\alpha$ emission, let's calculate the redshift and recession velocity:"
   ]
  },
  {
   "cell_type": "code",
   "execution_count": null,
   "metadata": {},
   "outputs": [],
   "source": [
    "z = (cen_new.value - 1216.) / 1216.\n",
    "cz = z * 2.998e5\n",
    "print('The new source has a redshift of {0:.3f} and '.format(z))\n",
    "print('a recession velocity of {0:.1f} km/s '.format(cz))"
   ]
  },
  {
   "cell_type": "markdown",
   "metadata": {},
   "source": [
    "Although this source is much closer than the Quasar, it is still further away than the Coma Cluster and thus not a member of the Cluster. \n",
    "\n",
    "Alternatively to using `specutils` we can also fit the emission lines with simple Gaussians. First let's define the Gaussian:"
   ]
  },
  {
   "cell_type": "code",
   "execution_count": null,
   "metadata": {},
   "outputs": [],
   "source": [
    "def gauss(x, a, b, c):\n",
    "    return (a * np.exp(-(((x - b)**2.) / (2 * c**2.))))"
   ]
  },
  {
   "cell_type": "markdown",
   "metadata": {},
   "source": [
    "Next, we just take those parts of the spectrum, where the two emission lines are located:"
   ]
  },
  {
   "cell_type": "code",
   "execution_count": null,
   "metadata": {},
   "outputs": [],
   "source": [
    "index_left_line = (spectrum_fits[1].data[0][0] > 1190.) & \\\n",
    "                  (spectrum_fits[1].data[0][0] < 1240.)\n",
    "wavelength_left_line = spectrum_fits[1].data[0][0][index_left_line]\n",
    "flux_left_line = spectrum_fits[1].data[0][1][index_left_line]\n",
    "\n",
    "index_right_line = (spectrum_fits[1].data[0][0] > 1300.) & \\\n",
    "                   (spectrum_fits[1].data[0][0] < 1380.)\n",
    "wavelength_right_line = spectrum_fits[1].data[0][0][index_right_line]\n",
    "flux_right_line = spectrum_fits[1].data[0][1][index_right_line]"
   ]
  },
  {
   "cell_type": "markdown",
   "metadata": {},
   "source": [
    "Finally, we fit a Gaussian to these two junks of spectrum:"
   ]
  },
  {
   "cell_type": "code",
   "execution_count": null,
   "metadata": {},
   "outputs": [],
   "source": [
    "start_values_left_line = [1.25e-13, 1220., 10.0]\n",
    "start_values_right_line = [0.2e-13, 1330., 10.0]\n",
    "popt_left_line, pcov_left_line = curve_fit(gauss, wavelength_left_line, \n",
    "                                           flux_left_line, \n",
    "                                           p0=start_values_left_line)\n",
    "perr_left_line = np.sqrt(np.diag(pcov_left_line))\n",
    "popt_right_line, pcov_right_line = curve_fit(gauss, wavelength_right_line, \n",
    "                                             flux_right_line,\n",
    "                                             p0=start_values_right_line)\n",
    "perr_right_line = np.sqrt(np.diag(pcov_right_line))\n",
    "print('For the left line we find the following parameter:')\n",
    "print('Central wavelength: {0:.1f} +- {1:.1f}'.format(popt_left_line[1], \n",
    "                                                      perr_left_line[1]))\n",
    "print('For the right line we find the following parameter:')\n",
    "print('Central wavelength: {0:.1f} +- {1:.1f}'.format(popt_right_line[1], \n",
    "                                                      perr_right_line[1]))"
   ]
  },
  {
   "cell_type": "markdown",
   "metadata": {},
   "source": [
    "These values are close to the results from the `specutils` package. \n",
    "\n",
    "To further check the fitting results, we plot the data, our model and residuals:"
   ]
  },
  {
   "cell_type": "code",
   "execution_count": null,
   "metadata": {},
   "outputs": [],
   "source": [
    "sns.set_style('darkgrid')\n",
    "fig = plt.figure(figsize=(10.0, 8.0))\n",
    "\n",
    "#Bottom panel: Residuals = Data - Model\n",
    "ax1 = fig.add_axes([0.17, 0.17, 0.77, 0.13])\n",
    "ax1.axhline(y=0, linestyle='--', color='#8b8b8b')\n",
    "ax1.plot(wavelength_left_line, (spectrum_fits[1].data[0][1][index_left_line] - \n",
    "         gauss(wavelength_left_line, popt_left_line[0], \n",
    "               popt_left_line[1], popt_left_line[2])) * 1e13,\n",
    "        label='Model left line', color=mpl.cm.magma(0.3))\n",
    "ax1.plot(wavelength_right_line, (spectrum_fits[1].data[0][1][index_right_line] - \n",
    "         gauss(wavelength_right_line, popt_right_line[0], \n",
    "               popt_right_line[1], popt_right_line[2])) * 1e13,\n",
    "        label='Model right line', color=mpl.cm.magma(0.5))\n",
    "ax1.set_xlim([1100, 1600])\n",
    "ax1.set_xlabel('Wavelength [$\\AA$]')\n",
    "ax1.set_ylabel('Residual')\n",
    "\n",
    "#Top panel: plot data and models\n",
    "ax2 = fig.add_axes([0.17, 0.31, 0.77, 0.63])\n",
    "ax2.plot(spectrum_fits[1].data[0][0], spectrum_fits[1].data[0][1] * 1e13, \n",
    "        label='Data', color=mpl.cm.magma(0.8))\n",
    "ax2.plot(wavelength_left_line, gauss(wavelength_left_line, popt_left_line[0], \n",
    "                                    popt_left_line[1], popt_left_line[2]) * 1e13,\n",
    "        label='Model left line', color=mpl.cm.magma(0.3))\n",
    "ax2.plot(wavelength_right_line, gauss(wavelength_right_line, popt_right_line[0], \n",
    "                                    popt_right_line[1], popt_right_line[2]) * 1e13,\n",
    "        label='Model right line', color=mpl.cm.magma(0.5))\n",
    "ax2.legend(loc=1, frameon=True)\n",
    "ax2.set_ylabel('Flux [10$^{-13}$ erg cm$^{-2}$ s$^{-1}$ $\\AA^{-1}$]')\n",
    "ax2.set_xlim([1100, 1600])\n",
    "ax2.set_xticklabels([], visible=False)"
   ]
  },
  {
   "cell_type": "markdown",
   "metadata": {},
   "source": [
    "While fitting a Gaussian to the emission lines provides very good results with regards to the central wavelength (and thus redshift) of the observed object, the residuals show that in particular the emission from the Milky Way is much more complicated. "
   ]
  },
  {
   "cell_type": "code",
   "execution_count": null,
   "metadata": {},
   "outputs": [],
   "source": [
    "#End of the tutorial\n",
    "spectrum_fits.close()"
   ]
  },
  {
   "cell_type": "code",
   "execution_count": null,
   "metadata": {},
   "outputs": [],
   "source": []
  }
 ],
 "metadata": {
  "kernelspec": {
   "display_name": "Python 3 (ipykernel)",
   "language": "python",
   "name": "python3"
  },
  "language_info": {
   "codemirror_mode": {
    "name": "ipython",
    "version": 3
   },
   "file_extension": ".py",
   "mimetype": "text/x-python",
   "name": "python",
   "nbconvert_exporter": "python",
   "pygments_lexer": "ipython3",
   "version": "3.8.10"
  },
  "widgets": {
   "application/vnd.jupyter.widget-state+json": {
    "state": {
     "0c13f7870adc4211b455bed945015dcf": {
      "model_module": "@jupyter-widgets/base",
      "model_module_version": "1.0.0",
      "model_name": "LayoutModel",
      "state": {}
     },
     "aa178e6e2fae4e91b9e23a3acf69ca1f": {
      "model_module": "jupyter-widget-ipyaladin",
      "model_module_version": "1.0.0",
      "model_name": "ModelAladin",
      "state": {
       "_dom_classes": [],
       "_model_module": "jupyter-widget-ipyaladin",
       "_model_module_version": "1.0.0",
       "_view_count": null,
       "_view_module": "jupyter-widget-ipyaladin",
       "_view_module_version": "",
       "allow_full_zoomout": false,
       "color_map_flag": true,
       "color_map_name": "",
       "coo_frame": "J2000",
       "fov": 1.40619,
       "full_screen": false,
       "layout": "IPY_MODEL_0c13f7870adc4211b455bed945015dcf",
       "listener_flag": true,
       "listener_type": "",
       "log": true,
       "moc_URL": "",
       "moc_dict": {},
       "moc_from_URL_flag": true,
       "moc_from_dict_flag": true,
       "moc_options": {},
       "options": [
        "show_reticle",
        "show_fullscreen_control",
        "show_share_control",
        "show_catalog",
        "target",
        "full_screen",
        "reticle_size",
        "show_layers_control",
        "show_zoom_control",
        "reticle_color",
        "show_coo_grid",
        "allow_full_zoomout",
        "show_goto_control",
        "coo_frame",
        "log",
        "fov",
        "show_frame",
        "survey"
       ],
       "reticle_color": "rgb(178, 50, 178)",
       "reticle_size": 22,
       "show_catalog": true,
       "show_coo_grid": false,
       "show_frame": true,
       "show_fullscreen_control": true,
       "show_goto_control": true,
       "show_layers_control": true,
       "show_reticle": true,
       "show_share_control": false,
       "show_zoom_control": true,
       "survey": "P/DSS2/color",
       "table_columns": [
        [
         194.88736,
         28.065691,
         7.1529998779296875,
         "nan"
        ],
        [
         194.640752,
         28.319632,
         10.307999610900879,
         "nan"
        ],
        [
         195.128886,
         28.458728,
         10.310999870300293,
         "nan"
        ],
        [
         195.541406,
         27.814279,
         11.22700023651123,
         "nan"
        ],
        [
         194.603873,
         27.657591,
         11.380999565124512,
         "nan"
        ],
        [
         194.670155,
         27.474267,
         7.789999961853027,
         "nan"
        ],
        [
         195.17432,
         28.510105,
         9.71500015258789,
         "nan"
        ],
        [
         195.295146,
         27.466945,
         10.520999908447266,
         "nan"
        ],
        [
         194.976192,
         28.631648,
         9.12399959564209,
         "nan"
        ],
        [
         195.082926,
         28.63682,
         10.666999816894531,
         "nan"
        ],
        [
         194.411009,
         28.43057,
         9.704999923706055,
         "nan"
        ]
       ],
       "table_flag": false,
       "table_keys": [
        "RA_ICRS",
        "DE_ICRS",
        "rmag",
        "zsp"
       ],
       "target": "194.952920 27.980560",
       "thumbnail_flag": true,
       "votable_URL": "",
       "votable_from_URL_flag": true,
       "votable_options": {}
      }
     }
    },
    "version_major": 2,
    "version_minor": 0
   }
  }
 },
 "nbformat": 4,
 "nbformat_minor": 2
}
