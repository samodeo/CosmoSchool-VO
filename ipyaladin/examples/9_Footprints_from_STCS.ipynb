{
 "cells": [
  {
   "cell_type": "code",
   "execution_count": 3,
   "metadata": {},
   "outputs": [],
   "source": [
    "from ipyaladin import Aladin"
   ]
  },
  {
   "cell_type": "code",
   "execution_count": 4,
   "metadata": {},
   "outputs": [
    {
     "data": {
      "application/vnd.jupyter.widget-view+json": {
       "model_id": "92cda3434e82439a88a8997d48664cb9",
       "version_major": 2,
       "version_minor": 0
      },
      "text/plain": [
       "Aladin(fov=1.2, options=['allow_full_zoomout', 'coo_frame', 'fov', 'full_screen', 'log', 'overlay_survey', 'ov…"
      ]
     },
     "metadata": {},
     "output_type": "display_data"
    }
   ],
   "source": [
    "a = Aladin(target='M 51', fov=1.2)\n",
    "a"
   ]
  },
  {
   "cell_type": "code",
   "execution_count": 5,
   "metadata": {},
   "outputs": [],
   "source": [
    "a.add_overlay_from_stcs('Polygon ICRS 202.63748 47.24951 202.46382 47.32391 202.46379 47.32391 202.45459 47.32391 202.34527 47.20597 202.34527 47.20596 202.34529 47.19710 202.51870 47.12286 202.52789 47.12286 202.52791 47.12286 202.63746 47.24063 202.63749 47.24949\\nPolygon J2000 202.74977 47.36958 202.57592 47.44415 202.57585 47.44416 202.56666 47.44416 202.45683 47.32632 202.45683 47.31746 202.63051 47.24302 202.63970 47.24302 202.74978 47.36069 202.74982 47.36955\\nPolygon J2000 202.52540 47.12904 202.35192 47.20325 202.34273 47.20325 202.23391 47.08518 202.23395 47.07633 202.23398 47.07630 202.40715 47.00227 202.40721 47.00226 202.41640 47.00226 202.52539 47.12018', {'color': 'red'})\n",
    "a.add_overlay_from_stcs('Circle ICRS 202.4656816 +47.1999842 0.04', {'color': '#4488ee'})"
   ]
  },
  {
   "cell_type": "code",
   "execution_count": null,
   "metadata": {},
   "outputs": [],
   "source": []
  }
 ],
 "metadata": {
  "kernelspec": {
   "display_name": "Python 3",
   "language": "python",
   "name": "python3"
  },
  "language_info": {
   "codemirror_mode": {
    "name": "ipython",
    "version": 3
   },
   "file_extension": ".py",
   "mimetype": "text/x-python",
   "name": "python",
   "nbconvert_exporter": "python",
   "pygments_lexer": "ipython3",
   "version": "3.6.7"
  },
  "toc": {
   "base_numbering": 1,
   "nav_menu": {},
   "number_sections": false,
   "sideBar": false,
   "skip_h1_title": false,
   "title_cell": "Table of Contents",
   "title_sidebar": "Contents",
   "toc_cell": false,
   "toc_position": {},
   "toc_section_display": false,
   "toc_window_display": false
  }
 },
 "nbformat": 4,
 "nbformat_minor": 2
}
