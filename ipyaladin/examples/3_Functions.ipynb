{
 "cells": [
  {
   "cell_type": "code",
   "execution_count": null,
   "metadata": {
    "collapsed": true
   },
   "outputs": [],
   "source": [
    "import ipyaladin as ipyal"
   ]
  },
  {
   "cell_type": "code",
   "execution_count": null,
   "metadata": {
    "collapsed": true
   },
   "outputs": [],
   "source": [
    "aladin= ipyal.Aladin(survey= 'P/DSS2/red',\n",
    "                              fov= 10,\n",
    "                              target= 'LMC',\n",
    "                              reticle_color= '#ff89ff')\n",
    "aladin"
   ]
  },
  {
   "cell_type": "code",
   "execution_count": null,
   "metadata": {
    "collapsed": true
   },
   "outputs": [],
   "source": [
    "url= 'http://vizier.u-strasbg.fr/viz-bin/votable?-source=HIP2&-c=LMC&-out.add=_RAJ,_DEJ&-oc.form=dm&-out.meta=DhuL&-out.max=9999&-c.rm=180'\n",
    "options= {'sourceSize':12, 'color': '#f08080'}\n",
    "aladin.add_catalog_from_URL(url, options)"
   ]
  },
  {
   "cell_type": "code",
   "execution_count": null,
   "metadata": {
    "collapsed": true
   },
   "outputs": [],
   "source": [
    "def getObjectData(data):\n",
    "    return data\n",
    "\n",
    "def getObjectRaDecProduct(data):\n",
    "    return data['ra']*data['dec']\n",
    "\n",
    "# when trigerred, the listeners on the js side of the application will send a json object whose parameter data\n",
    "# will be used by the python functions\n",
    "# (data is a litteral object on the js side, it will be converted as a dictionary object on the python side)\n",
    "aladin.add_listener('objectHovered', getObjectRaDecProduct)\n",
    "aladin.add_listener('objectClicked', getObjectData)"
   ]
  },
  {
   "cell_type": "code",
   "execution_count": null,
   "metadata": {
    "collapsed": true
   },
   "outputs": [],
   "source": [
    "aladin_bis= ipyal.Aladin(target='269.956288 -23.823863', fov=1)\n",
    "aladin_bis"
   ]
  },
  {
   "cell_type": "code",
   "execution_count": null,
   "metadata": {
    "collapsed": true
   },
   "outputs": [],
   "source": [
    "aladin_bis.set_color_map('rainbow')"
   ]
  },
  {
   "cell_type": "code",
   "execution_count": null,
   "metadata": {
    "collapsed": true
   },
   "outputs": [],
   "source": [
    "aladin_bis.get_JPEG_thumbnail()"
   ]
  }
 ],
 "metadata": {
  "kernelspec": {
   "display_name": "Python 3",
   "language": "python",
   "name": "python3"
  },
  "language_info": {
   "codemirror_mode": {
    "name": "ipython",
    "version": 3
   },
   "file_extension": ".py",
   "mimetype": "text/x-python",
   "name": "python",
   "nbconvert_exporter": "python",
   "pygments_lexer": "ipython3",
   "version": "3.6.1"
  }
 },
 "nbformat": 4,
 "nbformat_minor": 2
}
