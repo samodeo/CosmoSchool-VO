{
 "cells": [
  {
   "cell_type": "code",
   "execution_count": 14,
   "metadata": {},
   "outputs": [
    {
     "data": {
      "application/vnd.jupyter.widget-view+json": {
       "model_id": "8e78b40fb84a4a4cb8819137ecf080c0",
       "version_major": 2,
       "version_minor": 0
      },
      "text/plain": [
       "A Jupyter Widget"
      ]
     },
     "metadata": {},
     "output_type": "display_data"
    }
   ],
   "source": [
    "from ipyaladin import Aladin\n",
    "\n",
    "from ipywidgets import Layout, Box, widgets\n",
    "\n",
    "a = Aladin(layout=Layout(width='33.33%'), target='M 81', fov=0.3)\n",
    "b = Aladin(layout=Layout(width='33.33%'), survey='P/DSS2/red')\n",
    "c = Aladin(layout=Layout(width='33.33%'), survey='P/2MASS/color')\n",
    "\n",
    "# synchronize target between 3 widgets\n",
    "widgets.jslink((a, 'target'), (b, 'target'))\n",
    "widgets.jslink((b, 'target'), (c, 'target'))\n",
    "\n",
    "# synchronize FoV (zoom level) between 3 widgets\n",
    "widgets.jslink((a, 'fov'), (b, 'fov'))\n",
    "widgets.jslink((b, 'fov'), (c, 'fov'))\n",
    "\n",
    "items = [a, b, c]\n",
    "\n",
    "box_layout = Layout(display='flex',\n",
    "                    flex_flow='row',\n",
    "                    align_items='stretch',\n",
    "                    border='solid',\n",
    "                    width='100%')\n",
    "box = Box(children=items, layout=box_layout)\n",
    "box"
   ]
  }
 ],
 "metadata": {
  "kernelspec": {
   "display_name": "Python 3",
   "language": "python",
   "name": "python3"
  },
  "language_info": {
   "codemirror_mode": {
    "name": "ipython",
    "version": 3
   },
   "file_extension": ".py",
   "mimetype": "text/x-python",
   "name": "python",
   "nbconvert_exporter": "python",
   "pygments_lexer": "ipython3",
   "version": "3.6.1"
  }
 },
 "nbformat": 4,
 "nbformat_minor": 2
}
